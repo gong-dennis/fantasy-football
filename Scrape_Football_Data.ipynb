{
 "cells": [
  {
   "cell_type": "code",
   "execution_count": 25,
   "metadata": {},
   "outputs": [],
   "source": [
    "import pandas as pd\n",
    "import requests\n",
    "import numpy as np"
   ]
  },
  {
   "cell_type": "code",
   "execution_count": 26,
   "metadata": {},
   "outputs": [],
   "source": [
    "header = {\n",
    "  \"User-Agent\": \"Mozilla/5.0 (X11; Linux x86_64) AppleWebKit/537.36 (KHTML, like Gecko) Chrome/50.0.2661.75 Safari/537.36\",\n",
    "  \"X-Requested-With\": \"XMLHttpRequest\"\n",
    "}\n",
    "\n",
    "base = \"https://www.pro-football-reference.com/years/\"\n",
    "passing = \"/passing.htm\"\n",
    "rushing = \"/rushing.htm\"\n",
    "receiving = \"/receiving.htm\"\n",
    "team = \"\"\n",
    "fantasy = \"/fantasy.htm\"\n",
    "segments = [passing, rushing, receiving, team, fantasy]\n",
    "years = np.linspace(start=2009, stop=2018, num=10).astype(int).astype(str)"
   ]
  },
  {
   "cell_type": "code",
   "execution_count": 31,
   "metadata": {},
   "outputs": [
    {
     "name": "stdout",
     "output_type": "stream",
     "text": [
      "https://www.pro-football-reference.com/years/2009/passing.htm\n",
      "https://www.pro-football-reference.com/years/2009/rushing.htm\n",
      "https://www.pro-football-reference.com/years/2009/receiving.htm\n",
      "https://www.pro-football-reference.com/years/2009\n",
      "https://www.pro-football-reference.com/years/2009/fantasy.htm\n",
      "https://www.pro-football-reference.com/years/2010/passing.htm\n",
      "https://www.pro-football-reference.com/years/2010/rushing.htm\n",
      "https://www.pro-football-reference.com/years/2010/receiving.htm\n",
      "https://www.pro-football-reference.com/years/2010\n",
      "https://www.pro-football-reference.com/years/2010/fantasy.htm\n",
      "https://www.pro-football-reference.com/years/2011/passing.htm\n",
      "https://www.pro-football-reference.com/years/2011/rushing.htm\n",
      "https://www.pro-football-reference.com/years/2011/receiving.htm\n",
      "https://www.pro-football-reference.com/years/2011\n",
      "https://www.pro-football-reference.com/years/2011/fantasy.htm\n",
      "https://www.pro-football-reference.com/years/2012/passing.htm\n",
      "https://www.pro-football-reference.com/years/2012/rushing.htm\n",
      "https://www.pro-football-reference.com/years/2012/receiving.htm\n",
      "https://www.pro-football-reference.com/years/2012\n",
      "https://www.pro-football-reference.com/years/2012/fantasy.htm\n",
      "https://www.pro-football-reference.com/years/2013/passing.htm\n",
      "https://www.pro-football-reference.com/years/2013/rushing.htm\n",
      "https://www.pro-football-reference.com/years/2013/receiving.htm\n",
      "https://www.pro-football-reference.com/years/2013\n",
      "https://www.pro-football-reference.com/years/2013/fantasy.htm\n",
      "https://www.pro-football-reference.com/years/2014/passing.htm\n",
      "https://www.pro-football-reference.com/years/2014/rushing.htm\n",
      "https://www.pro-football-reference.com/years/2014/receiving.htm\n",
      "https://www.pro-football-reference.com/years/2014\n",
      "https://www.pro-football-reference.com/years/2014/fantasy.htm\n",
      "https://www.pro-football-reference.com/years/2015/passing.htm\n",
      "https://www.pro-football-reference.com/years/2015/rushing.htm\n",
      "https://www.pro-football-reference.com/years/2015/receiving.htm\n",
      "https://www.pro-football-reference.com/years/2015\n",
      "https://www.pro-football-reference.com/years/2015/fantasy.htm\n",
      "https://www.pro-football-reference.com/years/2016/passing.htm\n",
      "https://www.pro-football-reference.com/years/2016/rushing.htm\n",
      "https://www.pro-football-reference.com/years/2016/receiving.htm\n",
      "https://www.pro-football-reference.com/years/2016\n",
      "https://www.pro-football-reference.com/years/2016/fantasy.htm\n",
      "https://www.pro-football-reference.com/years/2017/passing.htm\n",
      "https://www.pro-football-reference.com/years/2017/rushing.htm\n",
      "https://www.pro-football-reference.com/years/2017/receiving.htm\n",
      "https://www.pro-football-reference.com/years/2017\n",
      "https://www.pro-football-reference.com/years/2017/fantasy.htm\n",
      "https://www.pro-football-reference.com/years/2018/passing.htm\n",
      "https://www.pro-football-reference.com/years/2018/rushing.htm\n",
      "https://www.pro-football-reference.com/years/2018/receiving.htm\n",
      "https://www.pro-football-reference.com/years/2018\n",
      "https://www.pro-football-reference.com/years/2018/fantasy.htm\n"
     ]
    }
   ],
   "source": [
    "for year in years:\n",
    "    for data in segments:\n",
    "        url = base + year + data\n",
    "        print(url)\n",
    "        r = requests.get(url, headers=header)\n",
    "        dfs = pd.read_html(r.text)\n",
    "        for i in range(len(dfs)):\n",
    "            if data != \"\":\n",
    "                csv_name = data[1:-4] + \"_\" + year + \".csv\"\n",
    "                dfs[i].to_csv(csv_name, sep = \",\")\n",
    "            else:\n",
    "                csv_name = str(i) + \"_team_\" + year + \".csv\"\n",
    "                dfs[i].to_csv(csv_name, sep = \",\")"
   ]
  },
  {
   "cell_type": "code",
   "execution_count": null,
   "metadata": {},
   "outputs": [],
   "source": []
  }
 ],
 "metadata": {
  "kernelspec": {
   "display_name": "Python 3",
   "language": "python",
   "name": "python3"
  },
  "language_info": {
   "codemirror_mode": {
    "name": "ipython",
    "version": 3
   },
   "file_extension": ".py",
   "mimetype": "text/x-python",
   "name": "python",
   "nbconvert_exporter": "python",
   "pygments_lexer": "ipython3",
   "version": "3.7.3"
  }
 },
 "nbformat": 4,
 "nbformat_minor": 2
}
